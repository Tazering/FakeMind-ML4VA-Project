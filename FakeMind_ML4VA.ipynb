{
  "cells": [
    {
      "cell_type": "markdown",
      "metadata": {
        "id": "IYWAP_dejtcC"
      },
      "source": [
        "# ***FakeMind-ML4VA Project: Detecting Droughts in Virginia***\n",
        "\n",
        "Team FakeMind is composed of three UVA students: Alex Fetea, Kamil Urbanowski, and Tyler Kim. FakeMind's goal is to predict droughts in Virginia using a dataset found online. This will help farmers take better care of their farms by taking preparing ahead of time for possible droughts.\n",
        "\n",
        "The link to the datasets can be found below:\n",
        "\n",
        "https://resilience.climate.gov/datasets/esri2::us-drought-by-state/explore\n",
        "\n",
        "https://www.ncei.noaa.gov/products/land-based-station/global-historical-climatology-network-daily\n",
        "\n",
        "\n",
        "In general, this notebook will store our code for the ML4VA project. This notebook will also be divided into 8 Steps:\n",
        "\n",
        "1. Big Picture & Setup\n",
        "2. Getting the Data\n",
        "3. Discovering and Visualizing the Data\n",
        "4. Data Cleaning\n",
        "5. Selecting and Training the Models\n",
        "6. Fine Tuning the Model\n",
        "7. Presentation\n",
        "8. Launch\n"
      ]
    },
    {
      "cell_type": "markdown",
      "metadata": {
        "id": "ZyYtGL1NlkGi"
      },
      "source": [
        "## **1-Big Picture & Setup**"
      ]
    },
    {
      "cell_type": "code",
      "execution_count": null,
      "metadata": {
        "id": "8Zdx3OVNirkW"
      },
      "outputs": [],
      "source": [
        "# import the necessary libraries\n",
        "import sklearn\n",
        "import numpy as np\n",
        "import os\n",
        "import tensorflow as tf\n",
        "import matplotlib.pyplot as plt\n",
        "import matplotlib as mpl\n",
        "import pandas as pd\n",
        "\n",
        "np.random.seed(17)"
      ]
    },
    {
      "cell_type": "markdown",
      "metadata": {
        "id": "iGYMOzFFmGwZ"
      },
      "source": [
        "## **2-Getting the Data**"
      ]
    },
    {
      "cell_type": "code",
      "execution_count": null,
      "metadata": {
        "id": "SU-CeJ6DmAWd"
      },
      "outputs": [],
      "source": [
        "# loads the data and includes some information and statistics about the dataset\n",
        "def load_data(filepath):\n",
        "  data = pd.read_csv(filepath)\n",
        "\n",
        "  file_size = 7.1\n",
        "  num_entries = 62313\n",
        "  num_features = 15\n",
        "  num_categorical = 2\n",
        "  missing_value_exists = True\n",
        "\n",
        "  # print the output\n",
        "  print(\"File Size:\", str(file_size) + \"+ MB\")\n",
        "  print(\"Number of Entries:\", str(num_entries))\n",
        "  print(\"Number of Features:\", str(num_features))\n",
        "  print(\"Do Categorical variables exist:\", \"Yes\" if num_categorical > 0 else \"No\", \"(\" + str(num_categorical) + \")\")\n",
        "  print(\"Do missing values exist:\", \"Yes\" if missing_value_exists else \"No\")\n",
        "  print(\"\\n\")\n",
        "\n",
        "  print(data.info())\n",
        "  print(data.describe())\n",
        "\n",
        "  return data"
      ]
    },
    {
      "cell_type": "code",
      "execution_count": null,
      "metadata": {
        "colab": {
          "base_uri": "https://localhost:8080/"
        },
        "id": "baqKG4m7nuUp",
        "outputId": "4d200dfd-2594-45ba-de19-b67d65217adf"
      },
      "outputs": [],
      "source": [
        "# loads the data\n",
        "drought_data = load_data(\"./datasets/USA_Drought_Intensity_2000_-_Present.csv\")"
      ]
    },
    {
      "cell_type": "code",
      "execution_count": null,
      "metadata": {
        "colab": {
          "base_uri": "https://localhost:8080/",
          "height": 664
        },
        "id": "qOfX1K0vo2cx",
        "outputId": "aae134a4-816e-4606-a454-43277d813312"
      },
      "outputs": [],
      "source": [
        "%matplotlib inline\n",
        "drought_data.hist(bins = 50, figsize = (20, 15))\n",
        "plt.show()"
      ]
    },
    {
      "cell_type": "code",
      "execution_count": null,
      "metadata": {
        "id": "gb_fmbpjpDl4"
      },
      "outputs": [],
      "source": [
        "# stratified test distribution by state abbreviation\n",
        "from sklearn.model_selection import StratifiedShuffleSplit\n",
        "\n",
        "split = StratifiedShuffleSplit(n_splits = 1, test_size = 0.2, random_state = 17)\n",
        "for train_index, test_index in split.split(drought_data, drought_data['state_abbr']):\n",
        "  strat_train_set = drought_data.loc[train_index]\n",
        "  strat_test_set = drought_data.loc[test_index]"
      ]
    },
    {
      "cell_type": "code",
      "execution_count": null,
      "metadata": {
        "colab": {
          "base_uri": "https://localhost:8080/"
        },
        "id": "BXITHj4dpQmD",
        "outputId": "3226c0a6-a7a7-48cb-9ee9-de9d7575e1f4"
      },
      "outputs": [],
      "source": [
        "# test distributions\n",
        "strat_test_set[\"state_abbr\"].value_counts() / len(strat_test_set)"
      ]
    },
    {
      "cell_type": "code",
      "execution_count": null,
      "metadata": {
        "colab": {
          "base_uri": "https://localhost:8080/"
        },
        "id": "Y934QS_B9CYq",
        "outputId": "8c04035f-6e7d-4e27-9850-b8f201d5c780"
      },
      "outputs": [],
      "source": [
        "drought_data[\"state_abbr\"].value_counts() / len(drought_data)"
      ]
    },
    {
      "cell_type": "markdown",
      "metadata": {
        "id": "z-bct2XbmL75"
      },
      "source": [
        "## **3-Discovering and Visualizing the Data**"
      ]
    },
    {
      "cell_type": "code",
      "execution_count": null,
      "metadata": {
        "colab": {
          "base_uri": "https://localhost:8080/",
          "height": 1000
        },
        "id": "ucAvvvSUmP_0",
        "outputId": "d0240864-48ab-48f4-8dee-7f039e0d1047"
      },
      "outputs": [],
      "source": [
        "import seaborn as sns\n",
        "\n",
        "plt.style.use(\"dark_background\")\n",
        "\n",
        "states_of_interest = [\"VA\", \"MD\", \"WV\", \"TN\", \"KY\", \"NC\", \"DC\"]\n",
        "\n",
        "for state in states_of_interest:\n",
        "  sub_df_train = strat_train_set.loc[strat_train_set[\"state_abbr\"] == state]\n",
        "  plt.title(state + \" Drought Levels\")\n",
        "\n",
        "  plt.scatter(sub_df_train[\"period\"], sub_df_train[\"d0\"], color = \"lime\", label = \"Nothing\")\n",
        "  plt.scatter(sub_df_train[\"period\"], sub_df_train[\"d0\"], color = \"green\", label = \"Abnormally Dry\")\n",
        "  plt.scatter(sub_df_train[\"period\"], sub_df_train[\"d1\"], color = \"olive\", label = \"Moderate Drought\")\n",
        "  plt.scatter(sub_df_train[\"period\"], sub_df_train[\"d2\"], color = \"yellow\", label = \"Sever Drought\")\n",
        "  plt.scatter(sub_df_train[\"period\"], sub_df_train[\"d3\"], color = \"orange\", label = \"Extreme Drought\")\n",
        "  plt.scatter(sub_df_train[\"period\"], sub_df_train[\"d4\"], color = \"red\", label = \"Exceptional Drought\")\n",
        "  plt.legend(bbox_to_anchor = (1.05, 1.0), loc = \"upper left\")\n",
        "  plt.tight_layout()\n",
        "  plt.show()\n"
      ]
    },
    {
      "cell_type": "markdown",
      "metadata": {
        "id": "nQhdLpxnUcpK"
      },
      "source": [
        "The scatterplots above represent the level of drought for VA and other adjacent states. It seems as if many of the states have a tendency to be abnormally dry but rarely have anything worse."
      ]
    },
    {
      "cell_type": "markdown",
      "metadata": {
        "id": "GTPrsZ1YmQYP"
      },
      "source": [
        "## **4-Data Cleaning**"
      ]
    },
    {
      "cell_type": "markdown",
      "metadata": {
        "id": "5148T3KVVZG9"
      },
      "source": [
        "Will drop some features since some of it is redundant."
      ]
    },
    {
      "cell_type": "code",
      "execution_count": null,
      "metadata": {
        "colab": {
          "base_uri": "https://localhost:8080/"
        },
        "id": "kDg5iticmVLb",
        "outputId": "10afd570-7004-40e5-da55-99c22c57f2d9"
      },
      "outputs": [],
      "source": [
        "# drop features\n",
        "drop_list = [\"D1_D4\", \"D2_D4\", \"D3_D4\", \"OBJECTID\", \"ddate\", \"state_abbr\", \"admin_fips\", \"nothing\", \"d0\", \"d1\", \"d2\", \"d3\", \"d4\", \"D0_D4\"]\n",
        "drought_data = drought_data.drop(drop_list, axis = 1)\n",
        "\n",
        "print(drought_data.head())"
      ]
    },
    {
      "cell_type": "code",
      "execution_count": null,
      "metadata": {
        "colab": {
          "base_uri": "https://localhost:8080/"
        },
        "id": "0-pNhQBoW1bF",
        "outputId": "45e3818d-4b7f-4a5f-9e19-8fceab6b9690"
      },
      "outputs": [],
      "source": [
        "output_list = [\"nothing\", \"d0\", \"d1\", \"d2\", \"d3\", \"d4\", \"D0_D4\"]\n",
        "\n",
        "y_strat_train_set = strat_train_set[output_list]\n",
        "X_strat_train_set = strat_train_set.drop(drop_list, axis = 1)\n",
        "\n",
        "print(y_strat_train_set.head())\n",
        "print(X_strat_train_set.head())\n"
      ]
    },
    {
      "cell_type": "code",
      "execution_count": null,
      "metadata": {
        "id": "jbCxeGDrYjT1"
      },
      "outputs": [],
      "source": [
        "# numeric\n",
        "from sklearn.pipeline import Pipeline\n",
        "from sklearn.preprocessing import StandardScaler\n",
        "from sklearn.impute import SimpleImputer\n",
        "from sklearn.preprocessing import OneHotEncoder\n",
        "from sklearn.compose import ColumnTransformer\n",
        "\n",
        "num_attribs = list(drought_data.select_dtypes(include = np.number))\n",
        "cat_attribs = list(drought_data.select_dtypes(exclude = np.number))\n",
        "\n",
        "num_pipeline = Pipeline([\n",
        "    (\"imputer\", SimpleImputer(strategy = \"constant\", fill_value = 0)),\n",
        "    (\"std_scaler\", StandardScaler()),\n",
        "])\n",
        "\n",
        "full_pipeline = ColumnTransformer([\n",
        "    (\"num\", num_pipeline, num_attribs),\n",
        "    (\"cat\", OneHotEncoder(), cat_attribs),\n",
        "])"
      ]
    },
    {
      "cell_type": "code",
      "execution_count": null,
      "metadata": {
        "colab": {
          "base_uri": "https://localhost:8080/"
        },
        "id": "JGcw9qmoaI93",
        "outputId": "ae54d8d8-2b05-48f5-b8a5-bdc96c9d24e6"
      },
      "outputs": [],
      "source": [
        "drought_train_data_prepared = full_pipeline.fit_transform(X_strat_train_set)\n",
        "print(drought_train_data_prepared.shape)"
      ]
    },
    {
      "cell_type": "markdown",
      "metadata": {
        "id": "gXb0ROYqmVeR"
      },
      "source": [
        "## **5-Selecting and Training the Models**"
      ]
    },
    {
      "cell_type": "code",
      "execution_count": null,
      "metadata": {
        "colab": {
          "base_uri": "https://localhost:8080/"
        },
        "id": "oQs2IWclj2PI",
        "outputId": "28f80916-a27e-4f50-d09c-ce9072bca60e"
      },
      "outputs": [],
      "source": [
        "import tensorflow as tf\n",
        "from tensorflow import keras\n",
        "\n",
        "num_samples = 1000\n",
        "timesteps = 10\n",
        "num_features = 15\n",
        "n_outputs = 7\n",
        "\n",
        "drought_train_data_prepared = np.random.random((num_samples, timesteps, num_features))\n",
        "\n",
        "y_strat_train_set = tf.keras.utils.to_categorical(np.random.randint(0, n_outputs, size=(num_samples,)))\n",
        "\n",
        "def build_simple_rnn_model(input_shape, n_neurons=[20, 20], n_outputs=7):\n",
        "    model = keras.models.Sequential()\n",
        "    model.add(keras.layers.SimpleRNN(n_neurons[0], return_sequences=True, input_shape=input_shape))\n",
        "    for n_neuron in n_neurons[1:]:\n",
        "        model.add(keras.layers.SimpleRNN(n_neuron))\n",
        "    model.add(keras.layers.Dense(n_outputs, activation='softmax'))\n",
        "    model.compile(loss='categorical_crossentropy', optimizer='adam', metrics=['accuracy'])\n",
        "    return model\n"
      ]
    },
    {
      "cell_type": "code",
      "execution_count": null,
      "metadata": {
        "colab": {
          "base_uri": "https://localhost:8080/"
        },
        "id": "r_IubsCZn1UE",
        "outputId": "7d5753e3-4114-4262-e475-c3515b77f3d2"
      },
      "outputs": [],
      "source": [
        "input_shape = (timesteps, num_features)\n",
        "simple_rnn_model = build_simple_rnn_model(input_shape, n_neurons=[20, 20], n_outputs=n_outputs)\n",
        "\n",
        "# Train the model\n",
        "history = simple_rnn_model.fit(\n",
        "    drought_train_data_prepared,\n",
        "    y_strat_train_set,\n",
        "    epochs=30,\n",
        "    validation_split=0.1\n",
        ")"
      ]
    },
    {
      "cell_type": "code",
      "execution_count": null,
      "metadata": {
        "id": "NqA1uZZylsH4"
      },
      "outputs": [],
      "source": [
        "keras.backend.clear_session()\n",
        "np.random.seed(42)"
      ]
    },
    {
      "cell_type": "markdown",
      "metadata": {
        "id": "uI6sxImOmc8w"
      },
      "source": [
        "## **6-Fine Tuning the Model**"
      ]
    },
    {
      "cell_type": "code",
      "execution_count": null,
      "metadata": {
        "id": "6YWnrnw9mjMc"
      },
      "outputs": [],
      "source": []
    },
    {
      "cell_type": "markdown",
      "metadata": {
        "id": "N8sErb6xmjhW"
      },
      "source": [
        "## **7-Presentation**"
      ]
    },
    {
      "cell_type": "code",
      "execution_count": null,
      "metadata": {
        "id": "2TeyTFT7mmVb"
      },
      "outputs": [],
      "source": []
    },
    {
      "cell_type": "markdown",
      "metadata": {
        "id": "qbUyC-HDmmmf"
      },
      "source": [
        "## **8-Launch**"
      ]
    },
    {
      "cell_type": "code",
      "execution_count": null,
      "metadata": {
        "id": "b-KRaAJomoT6"
      },
      "outputs": [],
      "source": []
    }
  ],
  "metadata": {
    "colab": {
      "provenance": []
    },
    "kernelspec": {
      "display_name": "Python 3",
      "name": "python3"
    },
    "language_info": {
      "codemirror_mode": {
        "name": "ipython",
        "version": 3
      },
      "file_extension": ".py",
      "mimetype": "text/x-python",
      "name": "python",
      "nbconvert_exporter": "python",
      "pygments_lexer": "ipython3",
      "version": "3.9.6"
    }
  },
  "nbformat": 4,
  "nbformat_minor": 0
}
